{
 "cells": [
  {
   "cell_type": "code",
   "execution_count": 1,
   "metadata": {},
   "outputs": [
    {
     "name": "stderr",
     "output_type": "stream",
     "text": [
      "/Users/Kasper/anaconda3/envs/corona_env_2/lib/python3.8/site-packages/pandas_datareader/compat/__init__.py:7: FutureWarning: pandas.util.testing is deprecated. Use the functions in the public API at pandas.testing instead.\n",
      "  from pandas.util.testing import assert_frame_equal\n"
     ]
    }
   ],
   "source": [
    "from ipywidgets import interact\n",
    "import numpy as np\n",
    "import pandas as pd\n",
    "import matplotlib.pyplot as plt\n",
    "import seaborn as sns\n",
    "import requests\n",
    "import json\n",
    "from pandas_datareader import data, wb\n",
    "import ipywidgets as widgets\n",
    "from plotly.offline import iplot\n",
    "from IPython.display import set_matplotlib_formats\n",
    "import chart_studio\n",
    "\n",
    "\n",
    "%matplotlib inline\n",
    "set_matplotlib_formats('svg')\n",
    "sns.set()\n",
    "sns.set_palette('Set3')"
   ]
  },
  {
   "cell_type": "code",
   "execution_count": 2,
   "metadata": {},
   "outputs": [],
   "source": [
    "def square(x):\n",
    "    return x * x"
   ]
  },
  {
   "cell_type": "code",
   "execution_count": 3,
   "metadata": {},
   "outputs": [
    {
     "data": {
      "application/vnd.jupyter.widget-view+json": {
       "model_id": "346386ae492e45b1ad9126e069030dcb",
       "version_major": 2,
       "version_minor": 0
      },
      "text/plain": [
       "interactive(children=(IntSlider(value=10, description='x', max=30, min=-10), Output()), _dom_classes=('widget-…"
      ]
     },
     "metadata": {},
     "output_type": "display_data"
    }
   ],
   "source": [
    "interact(square, x=10);"
   ]
  },
  {
   "cell_type": "code",
   "execution_count": 4,
   "metadata": {},
   "outputs": [
    {
     "data": {
      "application/vnd.jupyter.widget-view+json": {
       "model_id": "22cbe14525944e70b172d7551d93a020",
       "version_major": 2,
       "version_minor": 0
      },
      "text/plain": [
       "interactive(children=(IntSlider(value=50, description='x', step=10), Output()), _dom_classes=('widget-interact…"
      ]
     },
     "metadata": {},
     "output_type": "display_data"
    }
   ],
   "source": [
    "interact(square, x=(0, 100, 10));"
   ]
  },
  {
   "cell_type": "code",
   "execution_count": 5,
   "metadata": {},
   "outputs": [],
   "source": [
    "def friends(name, number):\n",
    "    return '{} has {} friends!'.format(name, number)"
   ]
  },
  {
   "cell_type": "code",
   "execution_count": 6,
   "metadata": {},
   "outputs": [
    {
     "data": {
      "application/vnd.jupyter.widget-view+json": {
       "model_id": "98473821536848f38e272b74e10bf931",
       "version_major": 2,
       "version_minor": 0
      },
      "text/plain": [
       "interactive(children=(Text(value='Sam', description='name'), IntSlider(value=7, description='number', max=10, …"
      ]
     },
     "metadata": {},
     "output_type": "display_data"
    }
   ],
   "source": [
    "interact(friends, name='Sam', number=(5, 10));"
   ]
  },
  {
   "cell_type": "code",
   "execution_count": 7,
   "metadata": {},
   "outputs": [
    {
     "data": {
      "application/vnd.jupyter.widget-view+json": {
       "model_id": "2a52bec69c024242b5d07f9c35aedc18",
       "version_major": 2,
       "version_minor": 0
      },
      "text/plain": [
       "interactive(children=(Text(value='Sam', description='name'), Dropdown(description='number', options={'One': 1,…"
      ]
     },
     "metadata": {},
     "output_type": "display_data"
    }
   ],
   "source": [
    "interact(friends, name='Sam', number={'One': 1, 'Five': 5, 'Ten': 10});"
   ]
  },
  {
   "cell_type": "code",
   "execution_count": 8,
   "metadata": {},
   "outputs": [],
   "source": [
    "def read_tab(sub):\n",
    "    \"\"\"\n",
    "        ARGS \n",
    "            sub must be one of the sub-tables under api.covid19data.dk\n",
    "        RETURNS\n",
    "            Pandas dataframe \n",
    "    \"\"\"\n",
    "    r = requests.get('https://api.covid19data.dk/' + sub)\n",
    "    return pd.read_json(r.content)\n",
    "\n",
    "# download Corona data\n",
    "john_hopkins_df          = read_tab('john_hopkins_data')\n",
    "ssi_cases_df             = read_tab('ssi_cases')\n",
    "ssi_cases_ts_df          = read_tab('ssi_cases_ts')\n",
    "ssi_countries_df         = read_tab('ssi_countries')\n",
    "ssi_deaths_ts_df         = read_tab('ssi_deaths_ts')\n",
    "ssi_demo_cases_df        = read_tab('ssi_demo_cases')\n",
    "ssi_demo_tests_df        = read_tab('ssi_demo_tests')\n",
    "ssi_geography_cases_df   = read_tab('ssi_geography_cases')\n",
    "ssi_geography_labs_df    = read_tab('ssi_geography_labs')\n",
    "ssi_geography_lut_df     = read_tab('ssi_geography_lut')\n",
    "ssi_hospitalized_df      = read_tab('ssi_hospitalized')\n",
    "ssi_sources_df           = read_tab('ssi_sources')\n",
    "worldometers_overview_df = read_tab('worldometers_overview')\n",
    "worldometers_tests_df    = read_tab('worldometers_tests')"
   ]
  },
  {
   "cell_type": "code",
   "execution_count": 9,
   "metadata": {},
   "outputs": [],
   "source": [
    "# download population data straight from world bank using pandas-datareader\n",
    "countries = ['AF', 'AL', 'DZ', 'AS', 'AD', 'AO', 'AG', 'AR', 'AM', 'AW', 'AU', 'AT', 'AZ', 'BS', 'BH', 'BD', 'BB', 'BY', 'BE', 'BZ', 'BJ', 'BM', 'BT', 'BO', 'BA', 'BW', 'BR', 'BG', 'BF', 'BI', 'CV', 'CM', 'CA', 'KY', 'CF', 'TD', 'CL', 'CN', 'CO', 'KM', 'CD', 'CG', 'CR', 'HR', 'CU', 'CW', 'CY', 'CZ', 'CI', 'DK', 'DJ', 'DM', 'DO', 'EC', 'EG', 'SV', 'GQ', 'ER', 'EE', 'SZ', 'ET', 'FO', 'FJ', 'FI', 'FR', 'PF', 'GA', 'GM', 'GE', 'GI', 'GR', 'GL', 'GD', 'GU', 'GT', 'GN', 'GW', 'GY', 'HT', 'HN', 'HK', 'HU', 'IS', 'IN', 'ID', 'IR', 'IQ', 'IE', 'IM', 'IL', 'IT', 'JM', 'JP', 'JO', 'KZ', 'KE', 'KI', 'KP', 'KR', 'KW', 'KG', 'LA', 'LV', 'LB', 'LS', 'LR', 'LY', 'LI', 'LT', 'LU', 'MO', 'MG', 'MW', 'MY', 'MV', 'ML', 'MT', 'MH', 'MR', 'MU', 'MX', 'FM', 'MD', 'MC', 'MN', 'ME', 'MA', 'MZ', 'MM', 'NA', 'NR', 'NP', 'NL', 'NC', 'NZ', 'NI', 'NE', 'NG', 'MP', 'NO', 'OM', 'PK', 'PW', 'PS', 'PA', 'PG', 'PY', 'PE', 'PH', 'PL', 'PT', 'PR', 'QA', 'MK', 'RO', 'RU', 'RW', 'KN', 'LC', 'MF', 'VC', 'WS', 'SM', 'ST', 'SA', 'SN', 'RS', 'SC', 'SL', 'SG', 'SX', 'SK', 'SI', 'SB', 'SO', 'ZA', 'SS', 'ES', 'LK', 'SD', 'SR', 'SE', 'CH', 'SY', 'TJ', 'TZ', 'TH', 'TL', 'TG', 'TO', 'TT', 'TN', 'TR', 'TM', 'TC', 'TV', 'UG', 'UA', 'AE', 'GB', 'US', 'UY', 'UZ', 'VU', 'VE', 'VN', 'VG', 'VI', 'YE', 'ZM', 'ZW']\n",
    "population_df = wb.download(indicator='sp.pop.totl', country=countries, start=2018, end=2018)\n",
    "# nicify \n",
    "population_df = population_df.rename(columns={'sp.pop.totl':'population'}).reset_index().drop('year', 1)"
   ]
  },
  {
   "cell_type": "code",
   "execution_count": 10,
   "metadata": {},
   "outputs": [],
   "source": [
    "# To date_time and rename columns\n",
    "john_hopkins_df['dates'] = pd.to_datetime(john_hopkins_df['dates'])\n",
    "john_hopkins_df.rename(columns={'country_region': 'country', 'province_state': 'state'}, inplace=True)\n",
    "\n",
    "# Merge population data for each country to the data frame\n",
    "john_hopkins_df = pd.merge(john_hopkins_df, population_df, on='country', how='left')\n",
    "john_hopkins_df.sort_values(['country', 'state', 'dates'], inplace=True)\n",
    "\n",
    "# New variables\n",
    "john_hopkins_df['deaths_per_mio'] = john_hopkins_df['deaths'] / (john_hopkins_df['population'] / 1000000)\n",
    "\n",
    "# Rename US to United States\n",
    "john_hopkins_df.loc[john_hopkins_df['country'] == 'US', 'country'] = 'United States'\n",
    "\n",
    "# Remove states state specifik rows from the dataframe\n",
    "#print(f'Dropping the {len(john_hopkins_df[~john_hopkins_df[\"state\"].isnull()])} state specifik rows out of the total {john_hopkins_df.shape[0]} rows of the dataframe')\n",
    "#john_hopkins_df = john_hopkins_df[john_hopkins_df['state'].isnull()]"
   ]
  },
  {
   "cell_type": "code",
   "execution_count": 11,
   "metadata": {},
   "outputs": [
    {
     "data": {
      "application/vnd.jupyter.widget-view+json": {
       "model_id": "43b2cc9fc11a4ce7b20dfe1ae359ad45",
       "version_major": 2,
       "version_minor": 0
      },
      "text/plain": [
       "interactive(children=(Dropdown(description='Country', index=46, options=('Afghanistan', 'Albania', 'Algeria', …"
      ]
     },
     "metadata": {},
     "output_type": "display_data"
    }
   ],
   "source": [
    "# Interactive visualisation\n",
    "def interactive_plot(country='Denmark', y_var_chosen='Deaths'):\n",
    "    if y_var_chosen == 'Deaths':\n",
    "        y_var = 'deaths'\n",
    "    elif y_var_chosen == 'Deaths per mio. capita':\n",
    "        y_var = 'deaths_per_mio'\n",
    "    elif y_var_chosen == 'Confirmed cases':\n",
    "        y_var = 'confirmed'\n",
    "    elif y_var_chosen == 'Recovered patients':\n",
    "        y_var = 'recovered'\n",
    "\n",
    "    country_chosen = john_hopkins_df.query(f'country == \"{country}\"')\n",
    "    days_with_deaths = (country_chosen['deaths'] > 0).sum()\n",
    "    first_death_date = country_chosen[(country_chosen['deaths'] > 0)]['dates'].min().date()\n",
    "    print(f'{country} has had a positive death count for {days_with_deaths} days, starting on {first_death_date}')\n",
    "\n",
    "    above_one = country_chosen[y_var] > 0\n",
    "    \n",
    "    ax = country_chosen[above_one].plot(x='dates', y=y_var, marker='o', label=country, figsize=(12,8))\n",
    "    plt.ylabel(y_var_chosen)\n",
    "    plt.xlabel('Dates')\n",
    "    sns.despine()\n",
    "\n",
    "# Series of all contries in the dataframe to choose from\n",
    "countries = john_hopkins_df['country'].unique()    \n",
    "\n",
    "# Make the plot interactive\n",
    "fig = widgets.interact(interactive_plot,\n",
    "    country=widgets.Dropdown(description='Country', options=countries, value='Denmark'),\n",
    "    y_var_chosen=widgets.Dropdown(description='Y-variable',options=['Deaths', 'Deaths per mio. capita', 'Confirmed cases', 'Recovered patients'], value='Deaths')\n",
    ")\n",
    "\n",
    "plt.show()"
   ]
  },
  {
   "cell_type": "code",
   "execution_count": null,
   "metadata": {},
   "outputs": [],
   "source": []
  }
 ],
 "metadata": {
  "kernelspec": {
   "display_name": "corona_env_2",
   "language": "python",
   "name": "corona_env_2"
  },
  "language_info": {
   "codemirror_mode": {
    "name": "ipython",
    "version": 3
   },
   "file_extension": ".py",
   "mimetype": "text/x-python",
   "name": "python",
   "nbconvert_exporter": "python",
   "pygments_lexer": "ipython3",
   "version": "3.8.2"
  }
 },
 "nbformat": 4,
 "nbformat_minor": 2
}
